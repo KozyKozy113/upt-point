{
 "cells": [
  {
   "cell_type": "code",
   "execution_count": 1,
   "metadata": {},
   "outputs": [],
   "source": [
    "from src import scrape_atjam2025\n",
    "from src import data_for_spread"
   ]
  },
  {
   "cell_type": "code",
   "execution_count": 2,
   "metadata": {},
   "outputs": [
    {
     "name": "stdout",
     "output_type": "stream",
     "text": [
      "Scraped and saved at 2025-08-06 19:09:14\n"
     ]
    }
   ],
   "source": [
    "data = scrape_atjam2025.main(\"https://up-t.jp/collabo/atjam2025\",0,\"atjam2025_data.json\")"
   ]
  },
  {
   "cell_type": "code",
   "execution_count": 3,
   "metadata": {},
   "outputs": [
    {
     "data": {
      "text/plain": [
       "{'broad_rank_texts': [{'datetime': '2025年08月06日 17:46',\n",
       "   'name': '愛崎ユウナ',\n",
       "   'count': 1},\n",
       "  {'datetime': '2025年08月06日 15:47', 'name': '新庄愛', 'count': 1},\n",
       "  {'datetime': '2025年08月06日 15:42', 'name': '新庄愛', 'count': 1},\n",
       "  {'datetime': '2025年08月06日 15:27', 'name': '姫奈', 'count': 1},\n",
       "  {'datetime': '2025年08月06日 15:27', 'name': '姫奈', 'count': 1},\n",
       "  {'datetime': '2025年08月06日 13:38', 'name': '新庄愛', 'count': 1},\n",
       "  {'datetime': '2025年08月06日 12:32', 'name': '姫奈', 'count': 1},\n",
       "  {'datetime': '2025年08月06日 12:32', 'name': '松尾優花', 'count': 1},\n",
       "  {'datetime': '2025年08月06日 12:20', 'name': '桐嶋奏歌', 'count': 1},\n",
       "  {'datetime': '2025年08月06日 10:43', 'name': '紬希わかな', 'count': 1}],\n",
       " 'rank_table': [{'name': '青木 眞歩', 'point': 455595},\n",
       "  {'name': 'みおん', 'point': 345138},\n",
       "  {'name': '足森いづみ', 'point': 311116},\n",
       "  {'name': '新庄愛', 'point': 281698},\n",
       "  {'name': '松尾優花', 'point': 259441},\n",
       "  {'name': 'マクマキ', 'point': 259365},\n",
       "  {'name': 'YUYU', 'point': 218854},\n",
       "  {'name': '茅野風花', 'point': 211591},\n",
       "  {'name': '蜂光うに', 'point': 207659},\n",
       "  {'name': '櫻かのん', 'point': 204125},\n",
       "  {'name': '紬希わかな', 'point': 203893},\n",
       "  {'name': '愛崎ユウナ', 'point': 141117},\n",
       "  {'name': '姫奈', 'point': 107630},\n",
       "  {'name': '川咲晴', 'point': 107438},\n",
       "  {'name': '花瀬すみれ', 'point': 81615},\n",
       "  {'name': '東雲こずゑ', 'point': 81552},\n",
       "  {'name': '峯島叶夢', 'point': 74168},\n",
       "  {'name': '天野ひろこ', 'point': 63461},\n",
       "  {'name': '塩見ももこ', 'point': 51808},\n",
       "  {'name': '花井葉乃', 'point': 37060},\n",
       "  {'name': '桐嶋奏歌', 'point': 25972},\n",
       "  {'name': '藤代梨々花', 'point': 25959},\n",
       "  {'name': '島田詩音', 'point': 22272},\n",
       "  {'name': '佐藤 愛唯', 'point': 11254},\n",
       "  {'name': '天羽うに', 'point': 7401}],\n",
       " 'timestamp': '2025-08-06 10:04:40'}"
      ]
     },
     "execution_count": 3,
     "metadata": {},
     "output_type": "execute_result"
    }
   ],
   "source": [
    "data"
   ]
  },
  {
   "cell_type": "code",
   "execution_count": 4,
   "metadata": {},
   "outputs": [],
   "source": [
    "from bs4 import BeautifulSoup\n",
    "import requests\n",
    "html_path=\"https://up-t.jp/collabo/atjam2025\"\n",
    "resp = requests.get(html_path)\n",
    "resp.raise_for_status()\n",
    "html = resp.text\n",
    "soup = BeautifulSoup(html, \"html.parser\")"
   ]
  },
  {
   "cell_type": "code",
   "execution_count": null,
   "metadata": {},
   "outputs": [],
   "source": []
  },
  {
   "cell_type": "code",
   "execution_count": null,
   "metadata": {},
   "outputs": [],
   "source": []
  },
  {
   "cell_type": "code",
   "execution_count": 5,
   "metadata": {},
   "outputs": [],
   "source": [
    "broad_rank_texts = scrape_atjam2025.extract_broad_rank_texts(soup)"
   ]
  },
  {
   "cell_type": "code",
   "execution_count": 6,
   "metadata": {},
   "outputs": [
    {
     "data": {
      "text/plain": [
       "[{'datetime': '2025年08月07日 00:29', 'name': 'マクマキ', 'count': 1},\n",
       " {'datetime': '2025年08月07日 00:29', 'name': 'マクマキ', 'count': 2},\n",
       " {'datetime': '2025年08月07日 00:29', 'name': 'マクマキ', 'count': 1},\n",
       " {'datetime': '2025年08月07日 00:29', 'name': 'マクマキ', 'count': 1},\n",
       " {'datetime': '2025年08月07日 00:29', 'name': 'マクマキ', 'count': 1},\n",
       " {'datetime': '2025年08月07日 00:29', 'name': 'マクマキ', 'count': 1},\n",
       " {'datetime': '2025年08月07日 00:21', 'name': '蜂光うに', 'count': 1},\n",
       " {'datetime': '2025年08月06日 23:15', 'name': '佐藤 愛唯', 'count': 1},\n",
       " {'datetime': '2025年08月06日 23:09', 'name': '新庄愛', 'count': 1},\n",
       " {'datetime': '2025年08月06日 23:09', 'name': '新庄愛', 'count': 5}]"
      ]
     },
     "execution_count": 6,
     "metadata": {},
     "output_type": "execute_result"
    }
   ],
   "source": [
    "broad_rank_texts"
   ]
  },
  {
   "cell_type": "code",
   "execution_count": 3,
   "metadata": {},
   "outputs": [],
   "source": [
    "import gspread\n",
    "from oauth2client.service_account import ServiceAccountCredentials\n",
    "from datetime import datetime\n",
    "\n",
    "# --- 設定 ---\n",
    "SERVICE_ACCOUNT_FILE = 'research-181705-deac2d5759c1.json'  # ダウンロードしたサービスアカウント JSON\n",
    "SPREADSHEET_ID      = '1-xZeooGI0_s7PCmIL_7LNBMeTaZ9_PzoX9lyOOF1WX0'    # スプレッドシート ID\n",
    "# ----------------\n",
    "\n",
    "def auth_gspread():\n",
    "    scope = [\n",
    "        'https://www.googleapis.com/auth/spreadsheets',\n",
    "        'https://www.googleapis.com/auth/drive'\n",
    "    ]\n",
    "    creds  = ServiceAccountCredentials.from_json_keyfile_name(SERVICE_ACCOUNT_FILE, scope)\n",
    "    return gspread.authorize(creds)\n",
    "\n",
    "gc = auth_gspread()\n",
    "\n",
    "\n",
    "def get_worksheet(name: str):\n",
    "    \"\"\"名前でワークシートを開く\"\"\"\n",
    "    sh = gc.open_by_key(SPREADSHEET_ID)\n",
    "    return sh.worksheet(name)"
   ]
  },
  {
   "cell_type": "code",
   "execution_count": 13,
   "metadata": {},
   "outputs": [],
   "source": [
    "records = broad_rank_texts\n",
    "\"\"\"\n",
    "「直近の購入実績」シートへ追加。\n",
    "    - 過去に同じ(datetime, name, count)が登録済みならスキップ\n",
    "    - 同一更新内の重複は許容\n",
    "    - 追加後に「購入日時」で降順ソート\n",
    "\"\"\"\n",
    "ws = get_worksheet(\"直近の購入実績\")\n",
    "all_rows = ws.get_all_values()[1:]  # ヘッダ行を除くすべての既存行\n",
    "existing = {(r[0], r[1], r[2]) for r in all_rows}\n",
    "\n",
    "to_append = []\n",
    "for rec in records:\n",
    "    key = (rec[\"datetime\"], rec[\"name\"], rec[\"count\"])\n",
    "    if key not in existing:\n",
    "        to_append.append([rec[\"datetime\"], rec[\"name\"], rec[\"count\"], \"test\"])"
   ]
  },
  {
   "cell_type": "code",
   "execution_count": 14,
   "metadata": {},
   "outputs": [
    {
     "data": {
      "text/plain": [
       "[['2025年08月07日 00:29', 'マクマキ', '1', '2025-08-07 0:30:03'],\n",
       " ['2025年08月07日 00:29', 'マクマキ', '2', '2025-08-07 0:30:03'],\n",
       " ['2025年08月07日 00:29', 'マクマキ', '1', '2025-08-07 0:30:03'],\n",
       " ['2025年08月07日 00:29', 'マクマキ', '1', '2025-08-07 0:30:03'],\n",
       " ['2025年08月07日 00:29', 'マクマキ', '1', '2025-08-07 0:30:03'],\n",
       " ['2025年08月07日 00:29', 'マクマキ', '1', '2025-08-07 0:30:03'],\n",
       " ['2025年08月07日 00:29', 'マクマキ', '1', '2025-08-07 1:03:01'],\n",
       " ['2025年08月07日 00:29', 'マクマキ', '2', '2025-08-07 1:03:01'],\n",
       " ['2025年08月07日 00:29', 'マクマキ', '1', '2025-08-07 1:03:01'],\n",
       " ['2025年08月07日 00:29', 'マクマキ', '1', '2025-08-07 1:03:01'],\n",
       " ['2025年08月07日 00:29', 'マクマキ', '1', '2025-08-07 1:03:01'],\n",
       " ['2025年08月07日 00:29', 'マクマキ', '1', '2025-08-07 1:03:01'],\n",
       " ['2025年08月07日 00:21', '蜂光うに', '1', '2025-08-07 0:22:01'],\n",
       " ['2025年08月07日 00:21', '蜂光うに', '1', '2025-08-07 1:03:01'],\n",
       " ['2025年08月06日 23:15', '佐藤 愛唯', '1', '2025-08-06 23:15:02'],\n",
       " ['2025年08月06日 23:15', '佐藤 愛唯', '1', '2025-08-07 1:03:01'],\n",
       " ['2025年08月06日 23:09', '新庄愛', '1', '2025-08-06 23:10:01'],\n",
       " ['2025年08月06日 23:09', '新庄愛', '1', '2025-08-06 23:10:01'],\n",
       " ['2025年08月06日 23:09', '新庄愛', '6', '2025-08-06 23:10:01'],\n",
       " ['2025年08月06日 23:09', '新庄愛', '1', '2025-08-06 23:10:01'],\n",
       " ['2025年08月06日 23:09', '新庄愛', '5', '2025-08-06 23:10:01'],\n",
       " ['2025年08月06日 23:09', '新庄愛', '1', '2025-08-06 23:10:01'],\n",
       " ['2025年08月06日 23:09', '新庄愛', '1', '2025-08-06 23:10:01'],\n",
       " ['2025年08月06日 23:09', '新庄愛', '1', '2025-08-06 23:10:01'],\n",
       " ['2025年08月06日 23:09', '新庄愛', '1', '2025-08-06 23:10:01'],\n",
       " ['2025年08月06日 23:09', '新庄愛', '1', '2025-08-06 23:10:01'],\n",
       " ['2025年08月06日 23:09', '新庄愛', '1', '2025-08-07 1:03:01'],\n",
       " ['2025年08月06日 23:09', '新庄愛', '5', '2025-08-07 1:03:01'],\n",
       " ['2025年08月06日 22:53', '松尾優花', '1', '2025-08-06 22:54:01'],\n",
       " ['2025年08月06日 21:49', '青木 眞歩', '1', '2025-08-06 21:50:03'],\n",
       " ['2025年08月06日 21:19', '新庄愛', '1', '2025-08-06 21:20:02'],\n",
       " ['2025年08月06日 17:46', '愛崎ユウナ', '1', '2025-08-06 19:09:14'],\n",
       " ['2025年08月06日 15:47', '新庄愛', '1', '2025-08-06 19:09:14'],\n",
       " ['2025年08月06日 15:42', '新庄愛', '1', '2025-08-06 19:09:14'],\n",
       " ['2025年08月06日 15:27', '姫奈', '1', '2025-08-06 19:09:14'],\n",
       " ['2025年08月06日 15:27', '姫奈', '1', '2025-08-06 19:09:14'],\n",
       " ['2025年08月06日 13:38', '新庄愛', '1', '2025-08-06 19:09:14'],\n",
       " ['2025年08月06日 12:32', '姫奈', '1', '2025-08-06 19:09:14'],\n",
       " ['2025年08月06日 12:32', '松尾優花', '1', '2025-08-06 19:09:14'],\n",
       " ['2025年08月06日 12:20', '桐嶋奏歌', '1', '2025-08-06 19:09:14'],\n",
       " ['2025年08月06日 10:43', '紬希わかな', '1', '2025-08-06 19:09:14']]"
      ]
     },
     "execution_count": 14,
     "metadata": {},
     "output_type": "execute_result"
    }
   ],
   "source": [
    "ws.get_all_values()[1:]"
   ]
  },
  {
   "cell_type": "code",
   "execution_count": 10,
   "metadata": {},
   "outputs": [
    {
     "data": {
      "text/plain": [
       "{('2025年08月06日 10:43', '紬希わかな', '1'),\n",
       " ('2025年08月06日 12:20', '桐嶋奏歌', '1'),\n",
       " ('2025年08月06日 12:32', '姫奈', '1'),\n",
       " ('2025年08月06日 12:32', '松尾優花', '1'),\n",
       " ('2025年08月06日 13:38', '新庄愛', '1'),\n",
       " ('2025年08月06日 15:27', '姫奈', '1'),\n",
       " ('2025年08月06日 15:42', '新庄愛', '1'),\n",
       " ('2025年08月06日 15:47', '新庄愛', '1'),\n",
       " ('2025年08月06日 17:46', '愛崎ユウナ', '1'),\n",
       " ('2025年08月06日 21:19', '新庄愛', '1'),\n",
       " ('2025年08月06日 21:49', '青木 眞歩', '1'),\n",
       " ('2025年08月06日 22:53', '松尾優花', '1'),\n",
       " ('2025年08月06日 23:09', '新庄愛', '1'),\n",
       " ('2025年08月06日 23:09', '新庄愛', '5'),\n",
       " ('2025年08月06日 23:09', '新庄愛', '6'),\n",
       " ('2025年08月06日 23:15', '佐藤 愛唯', '1'),\n",
       " ('2025年08月07日 0:21', '蜂光うに', '1'),\n",
       " ('2025年08月07日 0:29', 'マクマキ', '1'),\n",
       " ('2025年08月07日 0:29', 'マクマキ', '2')}"
      ]
     },
     "execution_count": 10,
     "metadata": {},
     "output_type": "execute_result"
    }
   ],
   "source": [
    "existing"
   ]
  },
  {
   "cell_type": "code",
   "execution_count": 15,
   "metadata": {},
   "outputs": [
    {
     "name": "stdout",
     "output_type": "stream",
     "text": [
      "('2025年08月07日 00:29', 'マクマキ', 1)\n",
      "('2025年08月07日 00:29', 'マクマキ', 2)\n",
      "('2025年08月07日 00:29', 'マクマキ', 1)\n",
      "('2025年08月07日 00:29', 'マクマキ', 1)\n",
      "('2025年08月07日 00:29', 'マクマキ', 1)\n",
      "('2025年08月07日 00:29', 'マクマキ', 1)\n",
      "('2025年08月07日 00:21', '蜂光うに', 1)\n",
      "('2025年08月06日 23:15', '佐藤 愛唯', 1)\n",
      "('2025年08月06日 23:09', '新庄愛', 1)\n",
      "('2025年08月06日 23:09', '新庄愛', 5)\n"
     ]
    }
   ],
   "source": [
    "for rec in records:\n",
    "    key = (rec[\"datetime\"], rec[\"name\"], rec[\"count\"])\n",
    "    if key not in existing:\n",
    "        print(key)"
   ]
  },
  {
   "cell_type": "code",
   "execution_count": 9,
   "metadata": {},
   "outputs": [
    {
     "data": {
      "text/plain": [
       "[['2025年08月07日 00:29', 'マクマキ', 1, 'test'],\n",
       " ['2025年08月07日 00:29', 'マクマキ', 2, 'test'],\n",
       " ['2025年08月07日 00:29', 'マクマキ', 1, 'test'],\n",
       " ['2025年08月07日 00:29', 'マクマキ', 1, 'test'],\n",
       " ['2025年08月07日 00:29', 'マクマキ', 1, 'test'],\n",
       " ['2025年08月07日 00:29', 'マクマキ', 1, 'test'],\n",
       " ['2025年08月07日 00:21', '蜂光うに', 1, 'test'],\n",
       " ['2025年08月06日 23:15', '佐藤 愛唯', 1, 'test'],\n",
       " ['2025年08月06日 23:09', '新庄愛', 1, 'test'],\n",
       " ['2025年08月06日 23:09', '新庄愛', 5, 'test']]"
      ]
     },
     "execution_count": 9,
     "metadata": {},
     "output_type": "execute_result"
    }
   ],
   "source": [
    "to_append"
   ]
  },
  {
   "cell_type": "code",
   "execution_count": null,
   "metadata": {},
   "outputs": [],
   "source": [
    "if to_append:\n",
    "    ws.append_rows(to_append, value_input_option='USER_ENTERED')\n",
    "\n",
    "# 購入日時（1列目）で降順ソート\n",
    "# sort((col_index, 'desc'))\n",
    "ws.sort((1, 'des'))"
   ]
  },
  {
   "cell_type": "code",
   "execution_count": null,
   "metadata": {},
   "outputs": [],
   "source": []
  }
 ],
 "metadata": {
  "kernelspec": {
   "display_name": "Python 3",
   "language": "python",
   "name": "python3"
  },
  "language_info": {
   "codemirror_mode": {
    "name": "ipython",
    "version": 3
   },
   "file_extension": ".py",
   "mimetype": "text/x-python",
   "name": "python",
   "nbconvert_exporter": "python",
   "pygments_lexer": "ipython3",
   "version": "3.11.13"
  }
 },
 "nbformat": 4,
 "nbformat_minor": 2
}
